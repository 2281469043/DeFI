{
 "cells": [
  {
   "cell_type": "code",
   "execution_count": 1,
   "id": "5345f4fc",
   "metadata": {},
   "outputs": [],
   "source": [
    "import pandas\n",
    "import pyreadr\n",
    "import numpy as np\n",
    "from datetime import datetime\n",
    "import matplotlib.pyplot as plt"
   ]
  },
  {
   "cell_type": "code",
   "execution_count": 2,
   "id": "d902d771",
   "metadata": {},
   "outputs": [
    {
     "data": {
      "text/html": [
       "<div>\n",
       "<style scoped>\n",
       "    .dataframe tbody tr th:only-of-type {\n",
       "        vertical-align: middle;\n",
       "    }\n",
       "\n",
       "    .dataframe tbody tr th {\n",
       "        vertical-align: top;\n",
       "    }\n",
       "\n",
       "    .dataframe thead th {\n",
       "        text-align: right;\n",
       "    }\n",
       "</style>\n",
       "<table border=\"1\" class=\"dataframe\">\n",
       "  <thead>\n",
       "    <tr style=\"text-align: right;\">\n",
       "      <th></th>\n",
       "      <th>id</th>\n",
       "      <th>type</th>\n",
       "      <th>timestamp</th>\n",
       "      <th>user</th>\n",
       "      <th>userAlias</th>\n",
       "      <th>onBehalfOf</th>\n",
       "      <th>onBehalfOfAlias</th>\n",
       "      <th>pool</th>\n",
       "      <th>reserve</th>\n",
       "      <th>amount</th>\n",
       "      <th>...</th>\n",
       "      <th>priceInUsd</th>\n",
       "      <th>borrowRateModeTo</th>\n",
       "      <th>borrowRateModeFrom</th>\n",
       "      <th>stableBorrowRate</th>\n",
       "      <th>variableBorrowRate</th>\n",
       "      <th>target</th>\n",
       "      <th>totalFee</th>\n",
       "      <th>version</th>\n",
       "      <th>deployment</th>\n",
       "      <th>DateTime</th>\n",
       "    </tr>\n",
       "  </thead>\n",
       "  <tbody>\n",
       "    <tr>\n",
       "      <th>0</th>\n",
       "      <td>0xc70f4c3f447f6a88e9fbb87ac1394b589e469ee57dda...</td>\n",
       "      <td>borrow</td>\n",
       "      <td>1.606841e+09</td>\n",
       "      <td>0xbd723fc4f1d737dcfc48a07fe7336766d34cad5f</td>\n",
       "      <td>Rocky Kuebler</td>\n",
       "      <td>0xbd723fc4f1d737dcfc48a07fe7336766d34cad5f</td>\n",
       "      <td>Rocky Kuebler</td>\n",
       "      <td>0xb53c1a33016b2dc2ff3653530bff1848a515c8c5</td>\n",
       "      <td>DAI</td>\n",
       "      <td>1.00</td>\n",
       "      <td>...</td>\n",
       "      <td>NaN</td>\n",
       "      <td>NaN</td>\n",
       "      <td>NaN</td>\n",
       "      <td>NaN</td>\n",
       "      <td>NaN</td>\n",
       "      <td>NaN</td>\n",
       "      <td>NaN</td>\n",
       "      <td>V2</td>\n",
       "      <td>Mainnet</td>\n",
       "      <td>2020-12-01 11:46:58</td>\n",
       "    </tr>\n",
       "    <tr>\n",
       "      <th>1</th>\n",
       "      <td>0x1ee3db904548c16d2ed3572f3d9894652e031facc8fa...</td>\n",
       "      <td>borrow</td>\n",
       "      <td>1.606902e+09</td>\n",
       "      <td>0x21d05071ca08593e13cd3afd0b4869537e015c92</td>\n",
       "      <td>Odaly Chihuahua-Tovar</td>\n",
       "      <td>0x21d05071ca08593e13cd3afd0b4869537e015c92</td>\n",
       "      <td>Odaly Chihuahua-Tovar</td>\n",
       "      <td>0xb53c1a33016b2dc2ff3653530bff1848a515c8c5</td>\n",
       "      <td>DAI</td>\n",
       "      <td>1.00</td>\n",
       "      <td>...</td>\n",
       "      <td>NaN</td>\n",
       "      <td>NaN</td>\n",
       "      <td>NaN</td>\n",
       "      <td>NaN</td>\n",
       "      <td>NaN</td>\n",
       "      <td>NaN</td>\n",
       "      <td>NaN</td>\n",
       "      <td>V2</td>\n",
       "      <td>Mainnet</td>\n",
       "      <td>2020-12-02 04:34:18</td>\n",
       "    </tr>\n",
       "    <tr>\n",
       "      <th>2</th>\n",
       "      <td>0x1e8f85330edc5005ead7a7ae8c418fbb64df726d4ffc...</td>\n",
       "      <td>borrow</td>\n",
       "      <td>1.606905e+09</td>\n",
       "      <td>0x39d637737cc76c5849a52c7d3b872a1eb22aa71c</td>\n",
       "      <td>Stephon Wal</td>\n",
       "      <td>0x39d637737cc76c5849a52c7d3b872a1eb22aa71c</td>\n",
       "      <td>Stephon Wal</td>\n",
       "      <td>0xb53c1a33016b2dc2ff3653530bff1848a515c8c5</td>\n",
       "      <td>LINK</td>\n",
       "      <td>1.00</td>\n",
       "      <td>...</td>\n",
       "      <td>NaN</td>\n",
       "      <td>NaN</td>\n",
       "      <td>NaN</td>\n",
       "      <td>NaN</td>\n",
       "      <td>NaN</td>\n",
       "      <td>NaN</td>\n",
       "      <td>NaN</td>\n",
       "      <td>V2</td>\n",
       "      <td>Mainnet</td>\n",
       "      <td>2020-12-02 05:24:50</td>\n",
       "    </tr>\n",
       "    <tr>\n",
       "      <th>3</th>\n",
       "      <td>0x43136c7aba13c072bb19ed88f8eadf859f0bfb994b42...</td>\n",
       "      <td>borrow</td>\n",
       "      <td>1.606913e+09</td>\n",
       "      <td>0x39d637737cc76c5849a52c7d3b872a1eb22aa71c</td>\n",
       "      <td>Stephon Wal</td>\n",
       "      <td>0x39d637737cc76c5849a52c7d3b872a1eb22aa71c</td>\n",
       "      <td>Stephon Wal</td>\n",
       "      <td>0xb53c1a33016b2dc2ff3653530bff1848a515c8c5</td>\n",
       "      <td>AAVE</td>\n",
       "      <td>0.05</td>\n",
       "      <td>...</td>\n",
       "      <td>NaN</td>\n",
       "      <td>NaN</td>\n",
       "      <td>NaN</td>\n",
       "      <td>NaN</td>\n",
       "      <td>NaN</td>\n",
       "      <td>NaN</td>\n",
       "      <td>NaN</td>\n",
       "      <td>V2</td>\n",
       "      <td>Mainnet</td>\n",
       "      <td>2020-12-02 07:47:21</td>\n",
       "    </tr>\n",
       "    <tr>\n",
       "      <th>4</th>\n",
       "      <td>0xd96af0cf05a1e99125fe51ee7e27a1c96cf40ea6e596...</td>\n",
       "      <td>borrow</td>\n",
       "      <td>1.606915e+09</td>\n",
       "      <td>0xdad4c11e8cc6a5c37808d3b31b3b284809f702d1</td>\n",
       "      <td>Jalen Mitchell</td>\n",
       "      <td>0xdad4c11e8cc6a5c37808d3b31b3b284809f702d1</td>\n",
       "      <td>Jalen Mitchell</td>\n",
       "      <td>0xb53c1a33016b2dc2ff3653530bff1848a515c8c5</td>\n",
       "      <td>DAI</td>\n",
       "      <td>1.00</td>\n",
       "      <td>...</td>\n",
       "      <td>NaN</td>\n",
       "      <td>NaN</td>\n",
       "      <td>NaN</td>\n",
       "      <td>NaN</td>\n",
       "      <td>NaN</td>\n",
       "      <td>NaN</td>\n",
       "      <td>NaN</td>\n",
       "      <td>V2</td>\n",
       "      <td>Mainnet</td>\n",
       "      <td>2020-12-02 08:10:19</td>\n",
       "    </tr>\n",
       "  </tbody>\n",
       "</table>\n",
       "<p>5 rows × 36 columns</p>\n",
       "</div>"
      ],
      "text/plain": [
       "                                                  id    type     timestamp  \\\n",
       "0  0xc70f4c3f447f6a88e9fbb87ac1394b589e469ee57dda...  borrow  1.606841e+09   \n",
       "1  0x1ee3db904548c16d2ed3572f3d9894652e031facc8fa...  borrow  1.606902e+09   \n",
       "2  0x1e8f85330edc5005ead7a7ae8c418fbb64df726d4ffc...  borrow  1.606905e+09   \n",
       "3  0x43136c7aba13c072bb19ed88f8eadf859f0bfb994b42...  borrow  1.606913e+09   \n",
       "4  0xd96af0cf05a1e99125fe51ee7e27a1c96cf40ea6e596...  borrow  1.606915e+09   \n",
       "\n",
       "                                         user              userAlias  \\\n",
       "0  0xbd723fc4f1d737dcfc48a07fe7336766d34cad5f          Rocky Kuebler   \n",
       "1  0x21d05071ca08593e13cd3afd0b4869537e015c92  Odaly Chihuahua-Tovar   \n",
       "2  0x39d637737cc76c5849a52c7d3b872a1eb22aa71c            Stephon Wal   \n",
       "3  0x39d637737cc76c5849a52c7d3b872a1eb22aa71c            Stephon Wal   \n",
       "4  0xdad4c11e8cc6a5c37808d3b31b3b284809f702d1         Jalen Mitchell   \n",
       "\n",
       "                                   onBehalfOf        onBehalfOfAlias  \\\n",
       "0  0xbd723fc4f1d737dcfc48a07fe7336766d34cad5f          Rocky Kuebler   \n",
       "1  0x21d05071ca08593e13cd3afd0b4869537e015c92  Odaly Chihuahua-Tovar   \n",
       "2  0x39d637737cc76c5849a52c7d3b872a1eb22aa71c            Stephon Wal   \n",
       "3  0x39d637737cc76c5849a52c7d3b872a1eb22aa71c            Stephon Wal   \n",
       "4  0xdad4c11e8cc6a5c37808d3b31b3b284809f702d1         Jalen Mitchell   \n",
       "\n",
       "                                         pool reserve  amount  ...  \\\n",
       "0  0xb53c1a33016b2dc2ff3653530bff1848a515c8c5     DAI    1.00  ...   \n",
       "1  0xb53c1a33016b2dc2ff3653530bff1848a515c8c5     DAI    1.00  ...   \n",
       "2  0xb53c1a33016b2dc2ff3653530bff1848a515c8c5    LINK    1.00  ...   \n",
       "3  0xb53c1a33016b2dc2ff3653530bff1848a515c8c5    AAVE    0.05  ...   \n",
       "4  0xb53c1a33016b2dc2ff3653530bff1848a515c8c5     DAI    1.00  ...   \n",
       "\n",
       "   priceInUsd  borrowRateModeTo  borrowRateModeFrom stableBorrowRate  \\\n",
       "0         NaN               NaN                 NaN              NaN   \n",
       "1         NaN               NaN                 NaN              NaN   \n",
       "2         NaN               NaN                 NaN              NaN   \n",
       "3         NaN               NaN                 NaN              NaN   \n",
       "4         NaN               NaN                 NaN              NaN   \n",
       "\n",
       "  variableBorrowRate target totalFee  version deployment            DateTime  \n",
       "0                NaN    NaN      NaN       V2    Mainnet 2020-12-01 11:46:58  \n",
       "1                NaN    NaN      NaN       V2    Mainnet 2020-12-02 04:34:18  \n",
       "2                NaN    NaN      NaN       V2    Mainnet 2020-12-02 05:24:50  \n",
       "3                NaN    NaN      NaN       V2    Mainnet 2020-12-02 07:47:21  \n",
       "4                NaN    NaN      NaN       V2    Mainnet 2020-12-02 08:10:19  \n",
       "\n",
       "[5 rows x 36 columns]"
      ]
     },
     "execution_count": 2,
     "metadata": {},
     "output_type": "execute_result"
    }
   ],
   "source": [
    "transaction = pyreadr.read_r(\"/data/IDEA_DeFi_Research/Data/Lending_Protocols/Aave/V2/Mainnet/transactions.rds\")\n",
    "df = transaction[None]\n",
    "df['DateTime'] = df['timestamp'].transform(lambda x: datetime.fromtimestamp(x))\n",
    "df.head()"
   ]
  },
  {
   "cell_type": "code",
   "execution_count": 3,
   "id": "5696d3bb",
   "metadata": {},
   "outputs": [
    {
     "name": "stdout",
     "output_type": "stream",
     "text": [
      "            transactionCount\n",
      "DateTime                    \n",
      "2020-11-30                 3\n",
      "2020-12-01                20\n",
      "2020-12-02               205\n",
      "2020-12-03              1089\n",
      "2020-12-04               869\n",
      "...                      ...\n",
      "2023-11-26               400\n",
      "2023-11-27               335\n",
      "2023-11-28               438\n",
      "2023-11-29               355\n",
      "2023-11-30               127\n",
      "\n",
      "[1091 rows x 1 columns]\n"
     ]
    }
   ],
   "source": [
    "# We are going to make a super basic linear model to try and predict how the AAVE token's price changes each day.\n",
    "# This script will engineer one feature to use for this predictive task: dailyTransactionCount.\n",
    "\n",
    "# To do this, we group the data by the date portion of the DateTime object, \n",
    "# and then simply count how many transactions are in each group\n",
    "dailyTransactionCount = df.groupby([df['DateTime'].dt.date]).count()\n",
    "dailyTransactionCount = dailyTransactionCount[['id']]\n",
    "dailyTransactionCount.rename(columns={\"id\": \"transactionCount\"}, inplace = True)\n",
    "print(dailyTransactionCount)"
   ]
  },
  {
   "cell_type": "code",
   "execution_count": 4,
   "id": "7574fdda",
   "metadata": {},
   "outputs": [
    {
     "name": "stdout",
     "output_type": "stream",
     "text": [
      "              priceUSD\n",
      "DateTime              \n",
      "2020-11-30  160.040985\n",
      "2020-12-01  189.916972\n",
      "2020-12-02  165.751269\n",
      "2020-12-03  189.176691\n",
      "2020-12-04  207.015268\n",
      "...                ...\n",
      "2023-11-26  119.630025\n",
      "2023-11-27  116.143040\n",
      "2023-11-28  118.810638\n",
      "2023-11-29  125.494667\n",
      "2023-11-30  113.503231\n",
      "\n",
      "[1090 rows x 1 columns]\n"
     ]
    }
   ],
   "source": [
    "# We load the minutely Aave price data here:\n",
    "aavePrices = pandas.read_csv('/data/IDEA_DeFi_Research/Data/Coin_Prices/Minutely/aavePrices.csv')\n",
    "# And here, since we want to predict daily prices, we create a new features which is the mean daily price.\n",
    "aavePrices['DateTime'] = aavePrices['timestamp'].transform(lambda x: datetime.fromtimestamp(x))\n",
    "dailyMeanPrices = aavePrices.groupby([df['DateTime'].dt.date]).mean()\n",
    "dailyMeanPrices = dailyMeanPrices[['priceUSD']]\n",
    "print(dailyMeanPrices)"
   ]
  },
  {
   "cell_type": "code",
   "execution_count": 5,
   "id": "31844546",
   "metadata": {},
   "outputs": [
    {
     "name": "stdout",
     "output_type": "stream",
     "text": [
      "            transactionCount    priceUSD\n",
      "DateTime                                \n",
      "2020-11-30                 3  160.040985\n",
      "2020-12-01                20  189.916972\n",
      "2020-12-02               205  165.751269\n",
      "2020-12-03              1089  189.176691\n",
      "2020-12-04               869  207.015268\n",
      "...                      ...         ...\n",
      "2023-11-26               400  119.630025\n",
      "2023-11-27               335  116.143040\n",
      "2023-11-28               438  118.810638\n",
      "2023-11-29               355  125.494667\n",
      "2023-11-30               127  113.503231\n",
      "\n",
      "[1090 rows x 2 columns]\n"
     ]
    }
   ],
   "source": [
    "dailyTransactionCount = dailyTransactionCount.merge(dailyMeanPrices, left_index = True, right_index = True)\n",
    "print(dailyTransactionCount)"
   ]
  },
  {
   "cell_type": "code",
   "execution_count": 6,
   "id": "3e3b8523",
   "metadata": {},
   "outputs": [],
   "source": [
    "def data_split(data_set):\n",
    "    from sklearn.model_selection import TimeSeriesSplit\n",
    "    # We want to use the transactionCount to predict the next day's price. To do this, we \"lead\" the priceUSD\n",
    "    # column so in a given row, the transaction count is aligned with the next day's price.\n",
    "    data_set['priceUSD_lead_1'] = data_set['priceUSD'].shift(-1)\n",
    "    # We need to drop NA values. One NA value is introduced through this \"lead\" on the last day in the dataset.\n",
    "    data_set.dropna(inplace=True)\n",
    "    # In practice, it is better to predict daily percent price changes rather than predicting literal prices, so we compute the daily\n",
    "    # percent change here by subtraction tomorrow's price from today's and dividing by today's price.\n",
    "    data_set['dailyPercentChange'] = (data_set['priceUSD_lead_1'] - data_set['priceUSD']) / data_set['priceUSD']\n",
    "    tss = TimeSeriesSplit(n_splits = 3)\n",
    "    X = data_set.drop(labels=['priceUSD_lead_1', 'dailyPercentChange'],axis=1)\n",
    "    y = data_set['dailyPercentChange']\n",
    "    for train_index, test_index in tss.split(data_set):\n",
    "        X_train, X_test = X.iloc[train_index, :], X.iloc[test_index,:]\n",
    "        y_train, y_test = y.iloc[train_index], y.iloc[test_index]\n",
    "    return [X_train, X_test, y_train, y_test]"
   ]
  },
  {
   "cell_type": "code",
   "execution_count": 7,
   "id": "c8c1c44f",
   "metadata": {},
   "outputs": [],
   "source": [
    "def linear_regression_model(X_train, X_test, y_train, y_test):\n",
    "    from sklearn.linear_model import LinearRegression\n",
    "    # We fit a linear model with the train data, where X_train is our feature matrix and y_train is our target variable\n",
    "    # using LinearRegression to classify the data\n",
    "    estimator = LinearRegression()\n",
    "    fit = estimator.fit(X_train, y_train)\n",
    "    # We compute the predictions for the X_test features:\n",
    "    predictions = fit.predict(X_test)\n",
    "    # The line below just computes the average accuracy of our predictions:\n",
    "    np.linalg.norm(predictions - y_test) / len(y_test)\n",
    "    # This for-loop is super ugly and represents my inexperience with Python. All it is intended to do is get\n",
    "    # the literal y_test values without the associated datetimes, for plotting purposes.\n",
    "    y_test_vals = list()\n",
    "    for i in y_test:\n",
    "        y_test_vals.append(i)\n",
    "    return predictions, y_test_vals"
   ]
  },
  {
   "cell_type": "code",
   "execution_count": 8,
   "id": "d23dbd48",
   "metadata": {},
   "outputs": [],
   "source": [
    "def plot_ground_truth(predictions, y_test_vals):\n",
    "    # We plot the ground-truth values in blue and the predicted values in red:\n",
    "    plt.plot(y_test_vals, color = \"blue\")\n",
    "    plt.plot(predictions, color = \"red\")"
   ]
  },
  {
   "cell_type": "code",
   "execution_count": 9,
   "id": "3c78561e",
   "metadata": {},
   "outputs": [],
   "source": [
    "def plot_difference(predictions, y_test_vals):\n",
    "    # We plot the difference between our model's predictions and the actual values:\n",
    "    plt.plot(y_test_vals - predictions)"
   ]
  },
  {
   "cell_type": "code",
   "execution_count": 10,
   "id": "a95fec73",
   "metadata": {},
   "outputs": [],
   "source": [
    "'''\n",
    "train_set[0] = X_train\n",
    "train_set[1] = X_test\n",
    "train_set[2] = y_train\n",
    "train_set[3] = y_test\n",
    "'''\n",
    "train_set = list()\n",
    "train_set = data_split(dailyTransactionCount) # store all 4 types of data inside\n",
    "# using the linear_regression_model to make prediction\n",
    "predictions, y_test_vals = linear_regression_model(train_set[0], train_set[1], train_set[2], train_set[3])"
   ]
  },
  {
   "cell_type": "code",
   "execution_count": 11,
   "id": "a8a8b6a8",
   "metadata": {},
   "outputs": [
    {
     "data": {
      "image/png": "[encoded data removed]",
      "text/plain": [
       "<Figure size 432x288 with 1 Axes>"
      ]
     },
     "metadata": {},
     "output_type": "display_data"
    }
   ],
   "source": [
    "plot_ground_truth(predictions, y_test_vals)"
   ]
  },
  {
   "cell_type": "code",
   "execution_count": 12,
   "id": "f64d6025",
   "metadata": {},
   "outputs": [
    {
     "data": {
      "image/png": "[encoded data removed]",
      "text/plain": [
       "<Figure size 432x288 with 1 Axes>"
      ]
     },
     "metadata": {},
     "output_type": "display_data"
    }
   ],
   "source": [
    "plot_difference(predictions, y_test_vals)"
   ]
  },
  {
   "cell_type": "code",
   "execution_count": 13,
   "id": "b0f2e615",
   "metadata": {},
   "outputs": [],
   "source": [
    "def k_neighbors_classifier(X_train, X_test, y_train, y_test):\n",
    "    from sklearn.neighbors import KNeighborsClassifier\n",
    "    # using KNN to classify the data\n",
    "    estimator = KNeighborsClassifier()\n",
    "    fit = estimator.fit(X_train, y_train)\n",
    "    predictions = fit.predict(X_test)\n",
    "    np.linalg.norm(predictions - y_test) / len(y_test)\n",
    "    y_test_vals = list()\n",
    "    for i in y_test:\n",
    "        y_test_vals.append(i)\n",
    "#     # evaluate the KNN model\n",
    "#     # method1: compare the real result and predict result\n",
    "#     y_predict = estimator.predict(X_test)\n",
    "#     print(\"y_predict:\\n\", y_predict)\n",
    "#     print(\"compare real result and predict result:\\n\", y_test == y_predict)\n",
    "    \n",
    "#     # method2: calculate the accuracy\n",
    "#     accuracy = estimator.score(X_test, y_test)\n",
    "#     print(\"accuracy: {0:.2f}\\n\".format(accuracy * 100))\n",
    "    return predictions, y_test_vals"
   ]
  },
  {
   "cell_type": "code",
   "execution_count": 14,
   "id": "5b63a508",
   "metadata": {},
   "outputs": [
    {
     "ename": "ValueError",
     "evalue": "Unknown label type: 'continuous'",
     "output_type": "error",
     "traceback": [
      "\u001b[0;31m---------------------------------------------------------------------------\u001b[0m",
      "\u001b[0;31mValueError\u001b[0m                                Traceback (most recent call last)",
      "\u001b[0;32m<ipython-input-14-aec4caabfd28>\u001b[0m in \u001b[0;36m<module>\u001b[0;34m()\u001b[0m\n\u001b[1;32m      1\u001b[0m \u001b[0;31m# using the k_neighbors_classifier to make prediction\u001b[0m\u001b[0;34m\u001b[0m\u001b[0;34m\u001b[0m\u001b[0m\n\u001b[0;32m----> 2\u001b[0;31m \u001b[0mpredictions\u001b[0m\u001b[0;34m,\u001b[0m \u001b[0my_test_vals\u001b[0m \u001b[0;34m=\u001b[0m \u001b[0mk_neighbors_classifier\u001b[0m\u001b[0;34m(\u001b[0m\u001b[0mtrain_set\u001b[0m\u001b[0;34m[\u001b[0m\u001b[0;36m0\u001b[0m\u001b[0;34m]\u001b[0m\u001b[0;34m,\u001b[0m \u001b[0mtrain_set\u001b[0m\u001b[0;34m[\u001b[0m\u001b[0;36m1\u001b[0m\u001b[0;34m]\u001b[0m\u001b[0;34m,\u001b[0m \u001b[0mtrain_set\u001b[0m\u001b[0;34m[\u001b[0m\u001b[0;36m2\u001b[0m\u001b[0;34m]\u001b[0m\u001b[0;34m,\u001b[0m \u001b[0mtrain_set\u001b[0m\u001b[0;34m[\u001b[0m\u001b[0;36m3\u001b[0m\u001b[0;34m]\u001b[0m\u001b[0;34m)\u001b[0m\u001b[0;34m\u001b[0m\u001b[0m\n\u001b[0m\u001b[1;32m      3\u001b[0m \u001b[0mplot_ground_truth\u001b[0m\u001b[0;34m(\u001b[0m\u001b[0mpredictions\u001b[0m\u001b[0;34m,\u001b[0m \u001b[0my_test_vals\u001b[0m\u001b[0;34m)\u001b[0m\u001b[0;34m\u001b[0m\u001b[0m\n",
      "\u001b[0;32m<ipython-input-13-640bab2bc97b>\u001b[0m in \u001b[0;36mk_neighbors_classifier\u001b[0;34m(X_train, X_test, y_train, y_test)\u001b[0m\n\u001b[1;32m      3\u001b[0m     \u001b[0;31m# using KNN to classify the data\u001b[0m\u001b[0;34m\u001b[0m\u001b[0;34m\u001b[0m\u001b[0m\n\u001b[1;32m      4\u001b[0m     \u001b[0mestimator\u001b[0m \u001b[0;34m=\u001b[0m \u001b[0mKNeighborsClassifier\u001b[0m\u001b[0;34m(\u001b[0m\u001b[0;34m)\u001b[0m\u001b[0;34m\u001b[0m\u001b[0m\n\u001b[0;32m----> 5\u001b[0;31m     \u001b[0mfit\u001b[0m \u001b[0;34m=\u001b[0m \u001b[0mestimator\u001b[0m\u001b[0;34m.\u001b[0m\u001b[0mfit\u001b[0m\u001b[0;34m(\u001b[0m\u001b[0mX_train\u001b[0m\u001b[0;34m,\u001b[0m \u001b[0my_train\u001b[0m\u001b[0;34m)\u001b[0m\u001b[0;34m\u001b[0m\u001b[0m\n\u001b[0m\u001b[1;32m      6\u001b[0m     \u001b[0mpredictions\u001b[0m \u001b[0;34m=\u001b[0m \u001b[0mfit\u001b[0m\u001b[0;34m.\u001b[0m\u001b[0mpredict\u001b[0m\u001b[0;34m(\u001b[0m\u001b[0mX_test\u001b[0m\u001b[0;34m)\u001b[0m\u001b[0;34m\u001b[0m\u001b[0m\n\u001b[1;32m      7\u001b[0m     \u001b[0mnp\u001b[0m\u001b[0;34m.\u001b[0m\u001b[0mlinalg\u001b[0m\u001b[0;34m.\u001b[0m\u001b[0mnorm\u001b[0m\u001b[0;34m(\u001b[0m\u001b[0mpredictions\u001b[0m \u001b[0;34m-\u001b[0m \u001b[0my_test\u001b[0m\u001b[0;34m)\u001b[0m \u001b[0;34m/\u001b[0m \u001b[0mlen\u001b[0m\u001b[0;34m(\u001b[0m\u001b[0my_test\u001b[0m\u001b[0;34m)\u001b[0m\u001b[0;34m\u001b[0m\u001b[0m\n",
      "\u001b[0;32m~/.local/lib/python3.6/site-packages/sklearn/neighbors/_classification.py\u001b[0m in \u001b[0;36mfit\u001b[0;34m(self, X, y)\u001b[0m\n\u001b[1;32m    177\u001b[0m             \u001b[0mThe\u001b[0m \u001b[0mfitted\u001b[0m \u001b[0mk\u001b[0m\u001b[0;34m-\u001b[0m\u001b[0mnearest\u001b[0m \u001b[0mneighbors\u001b[0m \u001b[0mclassifier\u001b[0m\u001b[0;34m.\u001b[0m\u001b[0;34m\u001b[0m\u001b[0m\n\u001b[1;32m    178\u001b[0m         \"\"\"\n\u001b[0;32m--> 179\u001b[0;31m         \u001b[0;32mreturn\u001b[0m \u001b[0mself\u001b[0m\u001b[0;34m.\u001b[0m\u001b[0m_fit\u001b[0m\u001b[0;34m(\u001b[0m\u001b[0mX\u001b[0m\u001b[0;34m,\u001b[0m \u001b[0my\u001b[0m\u001b[0;34m)\u001b[0m\u001b[0;34m\u001b[0m\u001b[0m\n\u001b[0m\u001b[1;32m    180\u001b[0m \u001b[0;34m\u001b[0m\u001b[0m\n\u001b[1;32m    181\u001b[0m     \u001b[0;32mdef\u001b[0m \u001b[0mpredict\u001b[0m\u001b[0;34m(\u001b[0m\u001b[0mself\u001b[0m\u001b[0;34m,\u001b[0m \u001b[0mX\u001b[0m\u001b[0;34m)\u001b[0m\u001b[0;34m:\u001b[0m\u001b[0;34m\u001b[0m\u001b[0m\n",
      "\u001b[0;32m~/.local/lib/python3.6/site-packages/sklearn/neighbors/_base.py\u001b[0m in \u001b[0;36m_fit\u001b[0;34m(self, X, y)\u001b[0m\n\u001b[1;32m    379\u001b[0m                     \u001b[0mself\u001b[0m\u001b[0;34m.\u001b[0m\u001b[0moutputs_2d_\u001b[0m \u001b[0;34m=\u001b[0m \u001b[0;32mTrue\u001b[0m\u001b[0;34m\u001b[0m\u001b[0m\n\u001b[1;32m    380\u001b[0m \u001b[0;34m\u001b[0m\u001b[0m\n\u001b[0;32m--> 381\u001b[0;31m                 \u001b[0mcheck_classification_targets\u001b[0m\u001b[0;34m(\u001b[0m\u001b[0my\u001b[0m\u001b[0;34m)\u001b[0m\u001b[0;34m\u001b[0m\u001b[0m\n\u001b[0m\u001b[1;32m    382\u001b[0m                 \u001b[0mself\u001b[0m\u001b[0;34m.\u001b[0m\u001b[0mclasses_\u001b[0m \u001b[0;34m=\u001b[0m \u001b[0;34m[\u001b[0m\u001b[0;34m]\u001b[0m\u001b[0;34m\u001b[0m\u001b[0m\n\u001b[1;32m    383\u001b[0m                 \u001b[0mself\u001b[0m\u001b[0;34m.\u001b[0m\u001b[0m_y\u001b[0m \u001b[0;34m=\u001b[0m \u001b[0mnp\u001b[0m\u001b[0;34m.\u001b[0m\u001b[0mempty\u001b[0m\u001b[0;34m(\u001b[0m\u001b[0my\u001b[0m\u001b[0;34m.\u001b[0m\u001b[0mshape\u001b[0m\u001b[0;34m,\u001b[0m \u001b[0mdtype\u001b[0m\u001b[0;34m=\u001b[0m\u001b[0mint\u001b[0m\u001b[0;34m)\u001b[0m\u001b[0;34m\u001b[0m\u001b[0m\n",
      "\u001b[0;32m~/.local/lib/python3.6/site-packages/sklearn/utils/multiclass.py\u001b[0m in \u001b[0;36mcheck_classification_targets\u001b[0;34m(y)\u001b[0m\n\u001b[1;32m    181\u001b[0m     if y_type not in ['binary', 'multiclass', 'multiclass-multioutput',\n\u001b[1;32m    182\u001b[0m                       'multilabel-indicator', 'multilabel-sequences']:\n\u001b[0;32m--> 183\u001b[0;31m         \u001b[0;32mraise\u001b[0m \u001b[0mValueError\u001b[0m\u001b[0;34m(\u001b[0m\u001b[0;34m\"Unknown label type: %r\"\u001b[0m \u001b[0;34m%\u001b[0m \u001b[0my_type\u001b[0m\u001b[0;34m)\u001b[0m\u001b[0;34m\u001b[0m\u001b[0m\n\u001b[0m\u001b[1;32m    184\u001b[0m \u001b[0;34m\u001b[0m\u001b[0m\n\u001b[1;32m    185\u001b[0m \u001b[0;34m\u001b[0m\u001b[0m\n",
      "\u001b[0;31mValueError\u001b[0m: Unknown label type: 'continuous'"
     ]
    }
   ],
   "source": [
    "# using the k_neighbors_classifier to make prediction\n",
    "predictions, y_test_vals = k_neighbors_classifier(train_set[0], train_set[1], train_set[2], train_set[3])\n",
    "plot_ground_truth(predictions, y_test_vals)"
   ]
  },
  {
   "cell_type": "code",
   "execution_count": null,
   "id": "2676eb59",
   "metadata": {},
   "outputs": [],
   "source": [
    "plot_difference(predictions, y_test_vals)"
   ]
  }
 ],
 "metadata": {
  "kernelspec": {
   "display_name": "python36",
   "language": "python",
   "name": "python36"
  },
  "language_info": {
   "codemirror_mode": {
    "name": "ipython",
    "version": 3
   },
   "file_extension": ".py",
   "mimetype": "text/x-python",
   "name": "python",
   "nbconvert_exporter": "python",
   "pygments_lexer": "ipython3",
   "version": "3.6.5"
  }
 },
 "nbformat": 4,
 "nbformat_minor": 5
}
