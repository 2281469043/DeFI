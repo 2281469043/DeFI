{
 "cells": [
  {
   "cell_type": "code",
   "execution_count": 1,
   "metadata": {},
   "outputs": [],
   "source": [
    "import pyreadr\n",
    "import pandas\n",
    "import matplotlib.pyplot as plt"
   ]
  },
  {
   "cell_type": "code",
   "execution_count": 2,
   "metadata": {},
   "outputs": [],
   "source": [
    "result = pyreadr.read_r('transactions.rds')"
   ]
  },
  {
   "cell_type": "code",
   "execution_count": 3,
   "metadata": {},
   "outputs": [
    {
     "data": {
      "text/html": [
       "<div>\n",
       "<style scoped>\n",
       "    .dataframe tbody tr th:only-of-type {\n",
       "        vertical-align: middle;\n",
       "    }\n",
       "\n",
       "    .dataframe tbody tr th {\n",
       "        vertical-align: top;\n",
       "    }\n",
       "\n",
       "    .dataframe thead th {\n",
       "        text-align: right;\n",
       "    }\n",
       "</style>\n",
       "<table border=\"1\" class=\"dataframe\">\n",
       "  <thead>\n",
       "    <tr style=\"text-align: right;\">\n",
       "      <th></th>\n",
       "      <th>id</th>\n",
       "      <th>type</th>\n",
       "      <th>timestamp</th>\n",
       "      <th>user</th>\n",
       "      <th>userAlias</th>\n",
       "      <th>onBehalfOf</th>\n",
       "      <th>onBehalfOfAlias</th>\n",
       "      <th>pool</th>\n",
       "      <th>reserve</th>\n",
       "      <th>amount</th>\n",
       "      <th>...</th>\n",
       "      <th>liquidatorAlias</th>\n",
       "      <th>priceInUsd</th>\n",
       "      <th>borrowRateModeTo</th>\n",
       "      <th>borrowRateModeFrom</th>\n",
       "      <th>stableBorrowRate</th>\n",
       "      <th>variableBorrowRate</th>\n",
       "      <th>target</th>\n",
       "      <th>totalFee</th>\n",
       "      <th>version</th>\n",
       "      <th>deployment</th>\n",
       "    </tr>\n",
       "  </thead>\n",
       "  <tbody>\n",
       "    <tr>\n",
       "      <th>0</th>\n",
       "      <td>0xc70f4c3f447f6a88e9fbb87ac1394b589e469ee57dda...</td>\n",
       "      <td>borrow</td>\n",
       "      <td>1.606841e+09</td>\n",
       "      <td>0xbd723fc4f1d737dcfc48a07fe7336766d34cad5f</td>\n",
       "      <td>Rocky Kuebler</td>\n",
       "      <td>0xbd723fc4f1d737dcfc48a07fe7336766d34cad5f</td>\n",
       "      <td>Rocky Kuebler</td>\n",
       "      <td>0xb53c1a33016b2dc2ff3653530bff1848a515c8c5</td>\n",
       "      <td>DAI</td>\n",
       "      <td>1.00</td>\n",
       "      <td>...</td>\n",
       "      <td>NaN</td>\n",
       "      <td>NaN</td>\n",
       "      <td>NaN</td>\n",
       "      <td>NaN</td>\n",
       "      <td>NaN</td>\n",
       "      <td>NaN</td>\n",
       "      <td>NaN</td>\n",
       "      <td>NaN</td>\n",
       "      <td>V2</td>\n",
       "      <td>Mainnet</td>\n",
       "    </tr>\n",
       "    <tr>\n",
       "      <th>1</th>\n",
       "      <td>0x1ee3db904548c16d2ed3572f3d9894652e031facc8fa...</td>\n",
       "      <td>borrow</td>\n",
       "      <td>1.606902e+09</td>\n",
       "      <td>0x21d05071ca08593e13cd3afd0b4869537e015c92</td>\n",
       "      <td>Odaly Chihuahua-Tovar</td>\n",
       "      <td>0x21d05071ca08593e13cd3afd0b4869537e015c92</td>\n",
       "      <td>Odaly Chihuahua-Tovar</td>\n",
       "      <td>0xb53c1a33016b2dc2ff3653530bff1848a515c8c5</td>\n",
       "      <td>DAI</td>\n",
       "      <td>1.00</td>\n",
       "      <td>...</td>\n",
       "      <td>NaN</td>\n",
       "      <td>NaN</td>\n",
       "      <td>NaN</td>\n",
       "      <td>NaN</td>\n",
       "      <td>NaN</td>\n",
       "      <td>NaN</td>\n",
       "      <td>NaN</td>\n",
       "      <td>NaN</td>\n",
       "      <td>V2</td>\n",
       "      <td>Mainnet</td>\n",
       "    </tr>\n",
       "    <tr>\n",
       "      <th>2</th>\n",
       "      <td>0x1e8f85330edc5005ead7a7ae8c418fbb64df726d4ffc...</td>\n",
       "      <td>borrow</td>\n",
       "      <td>1.606905e+09</td>\n",
       "      <td>0x39d637737cc76c5849a52c7d3b872a1eb22aa71c</td>\n",
       "      <td>Stephon Wal</td>\n",
       "      <td>0x39d637737cc76c5849a52c7d3b872a1eb22aa71c</td>\n",
       "      <td>Stephon Wal</td>\n",
       "      <td>0xb53c1a33016b2dc2ff3653530bff1848a515c8c5</td>\n",
       "      <td>LINK</td>\n",
       "      <td>1.00</td>\n",
       "      <td>...</td>\n",
       "      <td>NaN</td>\n",
       "      <td>NaN</td>\n",
       "      <td>NaN</td>\n",
       "      <td>NaN</td>\n",
       "      <td>NaN</td>\n",
       "      <td>NaN</td>\n",
       "      <td>NaN</td>\n",
       "      <td>NaN</td>\n",
       "      <td>V2</td>\n",
       "      <td>Mainnet</td>\n",
       "    </tr>\n",
       "    <tr>\n",
       "      <th>3</th>\n",
       "      <td>0x43136c7aba13c072bb19ed88f8eadf859f0bfb994b42...</td>\n",
       "      <td>borrow</td>\n",
       "      <td>1.606913e+09</td>\n",
       "      <td>0x39d637737cc76c5849a52c7d3b872a1eb22aa71c</td>\n",
       "      <td>Stephon Wal</td>\n",
       "      <td>0x39d637737cc76c5849a52c7d3b872a1eb22aa71c</td>\n",
       "      <td>Stephon Wal</td>\n",
       "      <td>0xb53c1a33016b2dc2ff3653530bff1848a515c8c5</td>\n",
       "      <td>AAVE</td>\n",
       "      <td>0.05</td>\n",
       "      <td>...</td>\n",
       "      <td>NaN</td>\n",
       "      <td>NaN</td>\n",
       "      <td>NaN</td>\n",
       "      <td>NaN</td>\n",
       "      <td>NaN</td>\n",
       "      <td>NaN</td>\n",
       "      <td>NaN</td>\n",
       "      <td>NaN</td>\n",
       "      <td>V2</td>\n",
       "      <td>Mainnet</td>\n",
       "    </tr>\n",
       "    <tr>\n",
       "      <th>4</th>\n",
       "      <td>0xd96af0cf05a1e99125fe51ee7e27a1c96cf40ea6e596...</td>\n",
       "      <td>borrow</td>\n",
       "      <td>1.606915e+09</td>\n",
       "      <td>0xdad4c11e8cc6a5c37808d3b31b3b284809f702d1</td>\n",
       "      <td>Jalen Mitchell</td>\n",
       "      <td>0xdad4c11e8cc6a5c37808d3b31b3b284809f702d1</td>\n",
       "      <td>Jalen Mitchell</td>\n",
       "      <td>0xb53c1a33016b2dc2ff3653530bff1848a515c8c5</td>\n",
       "      <td>DAI</td>\n",
       "      <td>1.00</td>\n",
       "      <td>...</td>\n",
       "      <td>NaN</td>\n",
       "      <td>NaN</td>\n",
       "      <td>NaN</td>\n",
       "      <td>NaN</td>\n",
       "      <td>NaN</td>\n",
       "      <td>NaN</td>\n",
       "      <td>NaN</td>\n",
       "      <td>NaN</td>\n",
       "      <td>V2</td>\n",
       "      <td>Mainnet</td>\n",
       "    </tr>\n",
       "  </tbody>\n",
       "</table>\n",
       "<p>5 rows × 35 columns</p>\n",
       "</div>"
      ],
      "text/plain": [
       "                                                  id    type     timestamp   \n",
       "0  0xc70f4c3f447f6a88e9fbb87ac1394b589e469ee57dda...  borrow  1.606841e+09  \\\n",
       "1  0x1ee3db904548c16d2ed3572f3d9894652e031facc8fa...  borrow  1.606902e+09   \n",
       "2  0x1e8f85330edc5005ead7a7ae8c418fbb64df726d4ffc...  borrow  1.606905e+09   \n",
       "3  0x43136c7aba13c072bb19ed88f8eadf859f0bfb994b42...  borrow  1.606913e+09   \n",
       "4  0xd96af0cf05a1e99125fe51ee7e27a1c96cf40ea6e596...  borrow  1.606915e+09   \n",
       "\n",
       "                                         user              userAlias   \n",
       "0  0xbd723fc4f1d737dcfc48a07fe7336766d34cad5f          Rocky Kuebler  \\\n",
       "1  0x21d05071ca08593e13cd3afd0b4869537e015c92  Odaly Chihuahua-Tovar   \n",
       "2  0x39d637737cc76c5849a52c7d3b872a1eb22aa71c            Stephon Wal   \n",
       "3  0x39d637737cc76c5849a52c7d3b872a1eb22aa71c            Stephon Wal   \n",
       "4  0xdad4c11e8cc6a5c37808d3b31b3b284809f702d1         Jalen Mitchell   \n",
       "\n",
       "                                   onBehalfOf        onBehalfOfAlias   \n",
       "0  0xbd723fc4f1d737dcfc48a07fe7336766d34cad5f          Rocky Kuebler  \\\n",
       "1  0x21d05071ca08593e13cd3afd0b4869537e015c92  Odaly Chihuahua-Tovar   \n",
       "2  0x39d637737cc76c5849a52c7d3b872a1eb22aa71c            Stephon Wal   \n",
       "3  0x39d637737cc76c5849a52c7d3b872a1eb22aa71c            Stephon Wal   \n",
       "4  0xdad4c11e8cc6a5c37808d3b31b3b284809f702d1         Jalen Mitchell   \n",
       "\n",
       "                                         pool reserve  amount  ...   \n",
       "0  0xb53c1a33016b2dc2ff3653530bff1848a515c8c5     DAI    1.00  ...  \\\n",
       "1  0xb53c1a33016b2dc2ff3653530bff1848a515c8c5     DAI    1.00  ...   \n",
       "2  0xb53c1a33016b2dc2ff3653530bff1848a515c8c5    LINK    1.00  ...   \n",
       "3  0xb53c1a33016b2dc2ff3653530bff1848a515c8c5    AAVE    0.05  ...   \n",
       "4  0xb53c1a33016b2dc2ff3653530bff1848a515c8c5     DAI    1.00  ...   \n",
       "\n",
       "   liquidatorAlias  priceInUsd  borrowRateModeTo borrowRateModeFrom   \n",
       "0              NaN         NaN               NaN                NaN  \\\n",
       "1              NaN         NaN               NaN                NaN   \n",
       "2              NaN         NaN               NaN                NaN   \n",
       "3              NaN         NaN               NaN                NaN   \n",
       "4              NaN         NaN               NaN                NaN   \n",
       "\n",
       "  stableBorrowRate variableBorrowRate target  totalFee version  deployment  \n",
       "0              NaN                NaN    NaN       NaN      V2     Mainnet  \n",
       "1              NaN                NaN    NaN       NaN      V2     Mainnet  \n",
       "2              NaN                NaN    NaN       NaN      V2     Mainnet  \n",
       "3              NaN                NaN    NaN       NaN      V2     Mainnet  \n",
       "4              NaN                NaN    NaN       NaN      V2     Mainnet  \n",
       "\n",
       "[5 rows x 35 columns]"
      ]
     },
     "execution_count": 3,
     "metadata": {},
     "output_type": "execute_result"
    }
   ],
   "source": [
    "df = result[None]\n",
    "df.head()"
   ]
  },
  {
   "cell_type": "code",
   "execution_count": 4,
   "metadata": {},
   "outputs": [
    {
     "name": "stdout",
     "output_type": "stream",
     "text": [
      "<class 'pandas.core.frame.DataFrame'>\n",
      "RangeIndex: 1951343 entries, 0 to 1951342\n",
      "Data columns (total 35 columns):\n",
      " #   Column               Dtype  \n",
      "---  ------               -----  \n",
      " 0   id                   object \n",
      " 1   type                 object \n",
      " 2   timestamp            float64\n",
      " 3   user                 object \n",
      " 4   userAlias            object \n",
      " 5   onBehalfOf           object \n",
      " 6   onBehalfOfAlias      object \n",
      " 7   pool                 object \n",
      " 8   reserve              object \n",
      " 9   amount               float64\n",
      " 10  amountUSD            float64\n",
      " 11  amountETH            float64\n",
      " 12  borrowRate           float64\n",
      " 13  borrowRateMode       object \n",
      " 14  fromState            object \n",
      " 15  toState              object \n",
      " 16  liquidator           object \n",
      " 17  principalAmount      float64\n",
      " 18  principalReserve     object \n",
      " 19  principalAmountUSD   float64\n",
      " 20  principalAmountETH   float64\n",
      " 21  collateralAmount     float64\n",
      " 22  collateralReserve    object \n",
      " 23  collateralAmountUSD  float64\n",
      " 24  collateralAmountETH  float64\n",
      " 25  liquidatorAlias      object \n",
      " 26  priceInUsd           float64\n",
      " 27  borrowRateModeTo     object \n",
      " 28  borrowRateModeFrom   object \n",
      " 29  stableBorrowRate     float64\n",
      " 30  variableBorrowRate   float64\n",
      " 31  target               object \n",
      " 32  totalFee             float64\n",
      " 33  version              object \n",
      " 34  deployment           object \n",
      "dtypes: float64(15), object(20)\n",
      "memory usage: 521.1+ MB\n"
     ]
    }
   ],
   "source": [
    "df.info()"
   ]
  },
  {
   "cell_type": "markdown",
   "metadata": {},
   "source": [
    "Extrack the type of the transaction and plot the distribution of the transaction type."
   ]
  },
  {
   "cell_type": "code",
   "execution_count": 7,
   "metadata": {},
   "outputs": [
    {
     "data": {
      "text/plain": [
       "<Axes: xlabel='type'>"
      ]
     },
     "execution_count": 7,
     "metadata": {},
     "output_type": "execute_result"
    },
    {
     "data": {
      "image/png": "[encoded data removed]",
      "text/plain": [
       "<Figure size 640x480 with 1 Axes>"
      ]
     },
     "metadata": {},
     "output_type": "display_data"
    }
   ],
   "source": [
    "transactions_type = df[\"type\"]\n",
    "\n",
    "transactions_type.value_counts().plot(kind='bar')"
   ]
  },
  {
   "cell_type": "markdown",
   "metadata": {},
   "source": [
    "Now we will plot only the borrow transaction, and we will see the distribution of the borrow transaction through the time."
   ]
  },
  {
   "cell_type": "code",
   "execution_count": 8,
   "metadata": {},
   "outputs": [
    {
     "name": "stdout",
     "output_type": "stream",
     "text": [
      "<class 'pandas.core.frame.DataFrame'>\n",
      "Index: 251342 entries, 0 to 251341\n",
      "Data columns (total 2 columns):\n",
      " #   Column     Non-Null Count   Dtype  \n",
      "---  ------     --------------   -----  \n",
      " 0   id         251342 non-null  object \n",
      " 1   timestamp  251342 non-null  float64\n",
      "dtypes: float64(1), object(1)\n",
      "memory usage: 5.8+ MB\n"
     ]
    }
   ],
   "source": [
    "# Get all borrow transactions\n",
    "borrow_transactions = df[df[\"type\"] == \"borrow\"]\n",
    "\n",
    "# only keep id and timestamp\n",
    "borrow_transactions = borrow_transactions[[\"id\", \"timestamp\"]]\n",
    "borrow_transactions.info()"
   ]
  },
  {
   "cell_type": "code",
   "execution_count": 9,
   "metadata": {},
   "outputs": [
    {
     "data": {
      "text/html": [
       "<div>\n",
       "<style scoped>\n",
       "    .dataframe tbody tr th:only-of-type {\n",
       "        vertical-align: middle;\n",
       "    }\n",
       "\n",
       "    .dataframe tbody tr th {\n",
       "        vertical-align: top;\n",
       "    }\n",
       "\n",
       "    .dataframe thead th {\n",
       "        text-align: right;\n",
       "    }\n",
       "</style>\n",
       "<table border=\"1\" class=\"dataframe\">\n",
       "  <thead>\n",
       "    <tr style=\"text-align: right;\">\n",
       "      <th></th>\n",
       "      <th>id</th>\n",
       "      <th>date</th>\n",
       "    </tr>\n",
       "  </thead>\n",
       "  <tbody>\n",
       "    <tr>\n",
       "      <th>0</th>\n",
       "      <td>0xc70f4c3f447f6a88e9fbb87ac1394b589e469ee57dda...</td>\n",
       "      <td>2020-12-01</td>\n",
       "    </tr>\n",
       "    <tr>\n",
       "      <th>1</th>\n",
       "      <td>0x1ee3db904548c16d2ed3572f3d9894652e031facc8fa...</td>\n",
       "      <td>2020-12-02</td>\n",
       "    </tr>\n",
       "    <tr>\n",
       "      <th>2</th>\n",
       "      <td>0x1e8f85330edc5005ead7a7ae8c418fbb64df726d4ffc...</td>\n",
       "      <td>2020-12-02</td>\n",
       "    </tr>\n",
       "    <tr>\n",
       "      <th>3</th>\n",
       "      <td>0x43136c7aba13c072bb19ed88f8eadf859f0bfb994b42...</td>\n",
       "      <td>2020-12-02</td>\n",
       "    </tr>\n",
       "    <tr>\n",
       "      <th>4</th>\n",
       "      <td>0xd96af0cf05a1e99125fe51ee7e27a1c96cf40ea6e596...</td>\n",
       "      <td>2020-12-02</td>\n",
       "    </tr>\n",
       "  </tbody>\n",
       "</table>\n",
       "</div>"
      ],
      "text/plain": [
       "                                                  id        date\n",
       "0  0xc70f4c3f447f6a88e9fbb87ac1394b589e469ee57dda...  2020-12-01\n",
       "1  0x1ee3db904548c16d2ed3572f3d9894652e031facc8fa...  2020-12-02\n",
       "2  0x1e8f85330edc5005ead7a7ae8c418fbb64df726d4ffc...  2020-12-02\n",
       "3  0x43136c7aba13c072bb19ed88f8eadf859f0bfb994b42...  2020-12-02\n",
       "4  0xd96af0cf05a1e99125fe51ee7e27a1c96cf40ea6e596...  2020-12-02"
      ]
     },
     "execution_count": 9,
     "metadata": {},
     "output_type": "execute_result"
    }
   ],
   "source": [
    "# convert timestamp to datetime, with unit days\n",
    "borrow_transactions[\"timestamp\"] = pandas.to_datetime(borrow_transactions[\"timestamp\"], unit='s')\n",
    "borrow_transactions.head()\n",
    "\n",
    "# convert datetime to date\n",
    "borrow_transactions[\"date\"] = borrow_transactions[\"timestamp\"].dt.date\n",
    "borrow_transactions.head()\n",
    "\n",
    "# drop timestamp\n",
    "borrow_transactions = borrow_transactions.drop(columns=[\"timestamp\"])\n",
    "borrow_transactions.head()"
   ]
  },
  {
   "cell_type": "code",
   "execution_count": 10,
   "metadata": {},
   "outputs": [
    {
     "data": {
      "text/plain": [
       "<Axes: xlabel='date'>"
      ]
     },
     "execution_count": 10,
     "metadata": {},
     "output_type": "execute_result"
    },
    {
     "data": {
      "image/png": "[encoded data removed]",
      "text/plain": [
       "<Figure size 640x480 with 1 Axes>"
      ]
     },
     "metadata": {},
     "output_type": "display_data"
    }
   ],
   "source": [
    "# Plot the number of borrow transactions through time\n",
    "borrow_transactions[\"date\"].value_counts().sort_index().plot()"
   ]
  }
 ],
 "metadata": {
  "kernelspec": {
   "display_name": "Python 3",
   "language": "python",
   "name": "python3"
  },
  "language_info": {
   "codemirror_mode": {
    "name": "ipython",
    "version": 3
   },
   "file_extension": ".py",
   "mimetype": "text/x-python",
   "name": "python",
   "nbconvert_exporter": "python",
   "pygments_lexer": "ipython3",
   "version": "3.10.12"
  }
 },
 "nbformat": 4,
 "nbformat_minor": 4
}
