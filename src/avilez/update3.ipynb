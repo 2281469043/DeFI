{
 "cells": [
  {
   "cell_type": "code",
   "execution_count": null,
   "id": "f976dba0-9bf1-4955-bcee-cb3c23ce0d3a",
   "metadata": {},
   "outputs": [],
   "source": [
    "import pyreadr\n",
    "import pandas as pd"
   ]
  },
  {
   "cell_type": "code",
   "execution_count": null,
   "id": "a95a64cd-73c2-4e43-98da-4afb739cfbad",
   "metadata": {},
   "outputs": [],
   "source": [
    "result = pyreadr.read_r(\"/data/IDEA_DeFi_Research/Data/Lending_Protocols/Aave/V2/Mainnet/transactions.rds\")"
   ]
  },
  {
   "cell_type": "code",
   "execution_count": null,
   "id": "ffa371cd-db1c-4048-a013-050d018174e4",
   "metadata": {},
   "outputs": [],
   "source": [
    "df = result[None] # extract the pandas data frame "
   ]
  },
  {
   "cell_type": "code",
   "execution_count": null,
   "id": "77345c28-9850-4d7a-83b8-b4f2a08d927f",
   "metadata": {},
   "outputs": [],
   "source": [
    "pd.set_option('mode.chained_assignment', None)"
   ]
  },
  {
   "cell_type": "code",
   "execution_count": null,
   "id": "ed2e0b91-0a08-43ef-b460-6bca63a22620",
   "metadata": {},
   "outputs": [],
   "source": [
    "df"
   ]
  },
  {
   "cell_type": "code",
   "execution_count": null,
   "id": "dcd42d39-34fc-4fa0-a0a8-3179d782fdac",
   "metadata": {},
   "outputs": [],
   "source": [
    "%store df"
   ]
  },
  {
   "cell_type": "code",
   "execution_count": null,
   "id": "efcc0458-00fb-4646-a426-1742e9efc61b",
   "metadata": {},
   "outputs": [],
   "source": [
    "df.isna()"
   ]
  },
  {
   "cell_type": "code",
   "execution_count": null,
   "id": "73679618-58ba-43fe-bc71-951050d30478",
   "metadata": {},
   "outputs": [],
   "source": [
    "df.isnull().sum()"
   ]
  },
  {
   "cell_type": "code",
   "execution_count": null,
   "id": "5f4767c3-1501-47eb-902d-3888539d9528",
   "metadata": {},
   "outputs": [],
   "source": [
    "import matplotlib.pyplot as plt\n",
    "import seaborn as sns\n",
    "import numpy as np"
   ]
  },
  {
   "cell_type": "code",
   "execution_count": null,
   "id": "bb4a700c-fe35-4f9c-bbe6-e15c868e5489",
   "metadata": {},
   "outputs": [],
   "source": [
    "missing_matrix = df.isnull()\n",
    "plt.figure(figsize=(20, 10))\n",
    "missing_heat_map = sns.heatmap(data = missing_matrix)\n",
    "missing_heat_map.set(xlabel = 'Features')\n",
    "missing_heat_map.set(ylabel = 'Samples')\n",
    "plt.title('Missingness Heatmap')\n",
    "plt.show()"
   ]
  },
  {
   "cell_type": "code",
   "execution_count": null,
   "id": "c67dd50f-81a2-4725-8887-ee8f449b6add",
   "metadata": {},
   "outputs": [],
   "source": [
    "corr = df.corr() \n",
    "sns.heatmap(corr, annot=True, ax=plt.subplots(figsize=(20,10))[1]) \n",
    "plt.title('Correlation Heatmap') \n",
    "plt.show()"
   ]
  },
  {
   "cell_type": "code",
   "execution_count": null,
   "id": "ad5ebc2d-a599-4c36-81c1-91e32f6a85aa",
   "metadata": {},
   "outputs": [],
   "source": [
    "df.head()"
   ]
  },
  {
   "cell_type": "code",
   "execution_count": null,
   "id": "3a9753a9-e653-468e-90f5-7dbddef19251",
   "metadata": {},
   "outputs": [],
   "source": [
    "types = df['type'].unique()\n",
    "print(f'Different types: {types}')"
   ]
  },
  {
   "cell_type": "code",
   "execution_count": null,
   "id": "fe7ed3aa-1b8e-4271-a110-77353990cbce",
   "metadata": {},
   "outputs": [],
   "source": [
    "subframes = [ df[df['type'] == i] for i in types ]"
   ]
  },
  {
   "cell_type": "code",
   "execution_count": null,
   "id": "7d3d87ef-caae-49ab-b4b7-02677e588374",
   "metadata": {},
   "outputs": [],
   "source": [
    "%store subframes"
   ]
  },
  {
   "cell_type": "code",
   "execution_count": null,
   "id": "7d5a08d0-d7ed-4881-9a3c-13f583ecfebf",
   "metadata": {},
   "outputs": [],
   "source": [
    "def clean_data(df):\n",
    "    return (\n",
    "        df\n",
    "         .dropna(axis=1)\n",
    "         .assign(date=pd.to_datetime(df['timestamp']))\n",
    "         .set_index('date')\n",
    "         .drop('id', axis='columns')\n",
    "         .drop('timestamp', axis='columns')\n",
    "         .sort_index()\n",
    "    )"
   ]
  },
  {
   "cell_type": "code",
   "execution_count": null,
   "id": "13e08d65-185c-4370-9f9e-005259cfed21",
   "metadata": {},
   "outputs": [],
   "source": [
    "cleaned = [clean_data(i) for i in subframes]"
   ]
  },
  {
   "cell_type": "code",
   "execution_count": null,
   "id": "c0f7482d-5924-4d28-ba7d-9efd82a6d5ea",
   "metadata": {},
   "outputs": [],
   "source": [
    "%store cleaned"
   ]
  },
  {
   "cell_type": "code",
   "execution_count": null,
   "id": "845980f0-b9fb-4bac-aa85-6cf784ce831b",
   "metadata": {},
   "outputs": [],
   "source": [
    "borrow, collateral, deposit, liquidation, withdraw, repay, swap, flashLoan = cleaned"
   ]
  },
  {
   "cell_type": "code",
   "execution_count": null,
   "id": "1d8b9688-bf9e-42f8-9da0-1e1024fd2fa6",
   "metadata": {},
   "outputs": [],
   "source": [
    "%store borrow\n",
    "%store collateral\n",
    "%store deposit\n",
    "%store liquidation\n",
    "%store withdraw\n",
    "%store repay\n",
    "%store swap\n",
    "%store flashLoan"
   ]
  },
  {
   "cell_type": "code",
   "execution_count": null,
   "id": "3044d9cf-2b0d-49bd-ac55-f205d4d48bd6",
   "metadata": {},
   "outputs": [],
   "source": [
    "print(borrow.head())"
   ]
  },
  {
   "cell_type": "code",
   "execution_count": null,
   "id": "1ce2cc5b-1414-4397-89f7-df912872aaf9",
   "metadata": {},
   "outputs": [],
   "source": [
    "collateral.head()"
   ]
  },
  {
   "cell_type": "code",
   "execution_count": null,
   "id": "72ec9ca6-05b2-4c5b-8694-f6b9947c2c97",
   "metadata": {},
   "outputs": [],
   "source": [
    "deposit.head()"
   ]
  },
  {
   "cell_type": "code",
   "execution_count": null,
   "id": "11f0e498-9fc0-440c-ac61-ce3b8ddaa088",
   "metadata": {},
   "outputs": [],
   "source": [
    "liquidation.head()"
   ]
  },
  {
   "cell_type": "code",
   "execution_count": null,
   "id": "debe66c6-a7a8-4c8f-ab14-4960420a29d0",
   "metadata": {},
   "outputs": [],
   "source": [
    "withdraw.head()"
   ]
  },
  {
   "cell_type": "code",
   "execution_count": null,
   "id": "7df49a93-7c48-49f4-a45e-d665489fe580",
   "metadata": {},
   "outputs": [],
   "source": [
    "repay.head()"
   ]
  },
  {
   "cell_type": "code",
   "execution_count": null,
   "id": "124482a7-a447-4f12-9ff9-ec99af031ae6",
   "metadata": {},
   "outputs": [],
   "source": [
    "swap.head()"
   ]
  },
  {
   "cell_type": "code",
   "execution_count": null,
   "id": "35d19eb3-19a0-41ec-8bb2-4aa49f577889",
   "metadata": {},
   "outputs": [],
   "source": [
    "flashLoan.head()"
   ]
  },
  {
   "cell_type": "code",
   "execution_count": null,
   "id": "4768224e-d9f0-4e87-9de2-86c0a5a2f2eb",
   "metadata": {},
   "outputs": [],
   "source": [
    "import tensorflow as tf\n",
    "from tensorflow import keras\n",
    "from sklearn.preprocessing import OneHotEncoder\n",
    "from sklearn.model_selection import train_test_split"
   ]
  },
  {
   "cell_type": "code",
   "execution_count": null,
   "id": "31d738c3-dc22-420a-b3ec-648b2d0060ac",
   "metadata": {},
   "outputs": [],
   "source": [
    "borrow = borrow.head(10000)\n",
    "# Separate features and target variables (you can choose based on your prediction needs)\n",
    "features = borrow.drop('amountUSD', axis=1)  # Features to predict amountUSD\n",
    "target = borrow['amountUSD']"
   ]
  },
  {
   "cell_type": "code",
   "execution_count": null,
   "id": "d73aede6-a648-444f-a06f-5a3bbaf55f5c",
   "metadata": {},
   "outputs": [],
   "source": [
    "# Preprocess categorical features with One-Hot Encoding\n",
    "categorical_features = ['userAlias', 'pool', 'reserve']\n",
    "encoder = OneHotEncoder(sparse=False)\n"
   ]
  },
  {
   "cell_type": "code",
   "execution_count": null,
   "id": "f98621c6-c7bd-4363-9497-50b327b75d7e",
   "metadata": {},
   "outputs": [],
   "source": [
    "encoded_features = encoder.fit_transform(features[categorical_features])"
   ]
  },
  {
   "cell_type": "code",
   "execution_count": null,
   "id": "f17e6069-77ee-4bc7-b127-e6bb46e1832c",
   "metadata": {},
   "outputs": [],
   "source": [
    "# Combine numerical features (after normalization/scaling if needed) and encoded categorical features\n",
    "processed_features = np.concatenate([features.drop(categorical_features, axis=1), encoded_features], axis=1)\n",
    "\n",
    "# Define hyperparameters (experiment with these values)\n",
    "embedding_dim = 16  # Experiment with different values\n",
    "lstm_units = 32  # Experiment with different values\n",
    "epochs = 10  # Experiment with different values\n",
    "batch_size = 64  # Experiment with different values"
   ]
  },
  {
   "cell_type": "code",
   "execution_count": null,
   "id": "ca18b7a2-7984-4bea-9422-421bc1fdaf5a",
   "metadata": {},
   "outputs": [],
   "source": [
    "# encoded_features = encoder.fit_transform(features[categorical_features])\n",
    "# categorical_feature_names = encoder.get_feature_names_out()  # Get encoded feature names"
   ]
  },
  {
   "cell_type": "code",
   "execution_count": null,
   "id": "d65cfa5c-7e57-45db-9fb7-8eca755adb83",
   "metadata": {},
   "outputs": [],
   "source": [
    "# # Split data into training and testing sets\n",
    "# X_train, X_test, y_train, y_test = train_test_split(processed_features, target, test_size=0.2, random_state=42)\n",
    "\n",
    "# # Define the model\n",
    "# model = keras.Sequential()\n",
    "\n",
    "# # Embedding layer for categorical features (adjust input_dim based on one-hot encoded vocabulary size)\n",
    "# model.add(keras.layers.Embedding(input_dim=encoder.get_feature_names_out().shape[0], output_dim=embedding_dim, input_length=processed_features.shape[1]))\n",
    "\n",
    "# # LSTM layers\n",
    "# model.add(keras.layers.LSTM(units=lstm_units, return_sequences=True))\n",
    "# model.add(keras.layers.LSTM(units=lstm_units))\n",
    "\n",
    "# # Output layer for predicting amountUSD (adjust based on your target variable)\n",
    "# model.add(keras.layers.Dense(units=1, activation='linear'))\n",
    "\n",
    "# # Compile the model\n",
    "# model.compile(loss='mse', optimizer='adam')\n",
    "\n",
    "# # Train the model\n",
    "# model.fit(X_train, y_train, epochs=epochs, batch_size=batch_size, validation_data=(X_test, y_test))\n",
    "\n",
    "# # Make predictions on testing set\n",
    "# y_pred = model.predict(X_test)\n",
    "\n",
    "# # Evaluate model performance (e.g., calculate mean squared error)\n",
    "# mse = tf.keras.losses.MeanSquaredError()\n",
    "# loss = mse(y_test, y_pred)\n",
    "# print(f\"Mean Squared Error on Testing Set: {loss.numpy()}\")"
   ]
  },
  {
   "cell_type": "code",
   "execution_count": null,
   "id": "867c33f0-faa3-4be9-9fbd-9978a7398bb4",
   "metadata": {},
   "outputs": [],
   "source": []
  }
 ],
 "metadata": {
  "kernelspec": {
   "display_name": "python36",
   "language": "python",
   "name": "python36"
  },
  "language_info": {
   "codemirror_mode": {
    "name": "ipython",
    "version": 3
   },
   "file_extension": ".py",
   "mimetype": "text/x-python",
   "name": "python",
   "nbconvert_exporter": "python",
   "pygments_lexer": "ipython3",
   "version": "3.6.13"
  },
  "toc-showcode": true
 },
 "nbformat": 4,
 "nbformat_minor": 5
}
