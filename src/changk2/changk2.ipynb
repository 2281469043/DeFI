{
 "cells": [
  {
   "cell_type": "code",
   "execution_count": null,
   "metadata": {},
   "outputs": [],
   "source": [
    "import pyreadr\n",
    "import pandas as pd\n",
    "import matplotlib.pyplot as plt\n",
    "import seaborn as sns\n",
    "import datetime"
   ]
  },
  {
   "cell_type": "code",
   "execution_count": null,
   "metadata": {},
   "outputs": [],
   "source": [
    "result = pyreadr.read_r('/data/IDEA_DeFi_Research/Data/Lending_Protocols/Aave/V2/Mainnet/transactions.rds')"
   ]
  },
  {
   "cell_type": "code",
   "execution_count": null,
   "metadata": {},
   "outputs": [],
   "source": [
    "df = result[None]\n",
    "df.head()"
   ]
  },
  {
   "cell_type": "code",
   "execution_count": null,
   "metadata": {},
   "outputs": [],
   "source": [
    "# get information of data\n",
    "df.info()"
   ]
  },
  {
   "cell_type": "code",
   "execution_count": null,
   "metadata": {},
   "outputs": [],
   "source": [
    "# checking for missing values in the data\n",
    "print(df.isnull().sum())"
   ]
  },
  {
   "cell_type": "code",
   "execution_count": null,
   "metadata": {},
   "outputs": [],
   "source": [
    "# draw the corelation heatmap\n",
    "correlation_matrix = df.corr()\n",
    "plt.figure(figsize=(10, 8))\n",
    "sns.heatmap(correlation_matrix)\n",
    "plt.title(\"Correlation for transactions.rds\")\n",
    "plt.show()"
   ]
  },
  {
   "cell_type": "code",
   "execution_count": null,
   "metadata": {},
   "outputs": [],
   "source": [
    "# draw the boxplot of data\n",
    "plt.figure(figsize=(10, 6))\n",
    "sns.boxplot(data=df, orient=\"v\")\n",
    "plt.xticks(range(len(df.columns)), df.columns, rotation=90)\n",
    "plt.xlabel(\"Features\")\n",
    "plt.ylabel(\"Value\")\n",
    "plt.title(\"Boxplot of Features\")\n",
    "plt.show()"
   ]
  },
  {
   "cell_type": "code",
   "execution_count": null,
   "metadata": {},
   "outputs": [],
   "source": [
    "group = df.groupby(\"type\")"
   ]
  },
  {
   "cell_type": "code",
   "execution_count": null,
   "metadata": {
    "jupyter": {
     "source_hidden": true
    },
    "tags": []
   },
   "outputs": [],
   "source": [
    "group.head()"
   ]
  },
  {
   "cell_type": "code",
   "execution_count": null,
   "metadata": {},
   "outputs": [],
   "source": [
    "borrow_data = group.get_group(\"borrow\")"
   ]
  },
  {
   "cell_type": "code",
   "execution_count": null,
   "metadata": {
    "tags": []
   },
   "outputs": [],
   "source": [
    "borrow_data.head()"
   ]
  },
  {
   "cell_type": "code",
   "execution_count": null,
   "metadata": {},
   "outputs": [],
   "source": [
    "df['DateTime'] = df['timestamp'].transform(lambda x: datetime.datetime.fromtimestamp(x))"
   ]
  },
  {
   "cell_type": "code",
   "execution_count": null,
   "metadata": {},
   "outputs": [],
   "source": [
    "df.head()"
   ]
  },
  {
   "cell_type": "code",
   "execution_count": 36,
   "metadata": {
    "tags": []
   },
   "outputs": [
    {
     "data": {
      "text/html": [
       "<div>\n",
       "<style scoped>\n",
       "    .dataframe tbody tr th:only-of-type {\n",
       "        vertical-align: middle;\n",
       "    }\n",
       "\n",
       "    .dataframe tbody tr th {\n",
       "        vertical-align: top;\n",
       "    }\n",
       "\n",
       "    .dataframe thead th {\n",
       "        text-align: right;\n",
       "    }\n",
       "</style>\n",
       "<table border=\"1\" class=\"dataframe\">\n",
       "  <thead>\n",
       "    <tr style=\"text-align: right;\">\n",
       "      <th></th>\n",
       "      <th>id</th>\n",
       "      <th>type</th>\n",
       "      <th>timestamp</th>\n",
       "      <th>user</th>\n",
       "      <th>userAlias</th>\n",
       "      <th>onBehalfOf</th>\n",
       "      <th>onBehalfOfAlias</th>\n",
       "      <th>pool</th>\n",
       "      <th>reserve</th>\n",
       "      <th>amount</th>\n",
       "      <th>...</th>\n",
       "      <th>liquidatorAlias</th>\n",
       "      <th>priceInUsd</th>\n",
       "      <th>borrowRateModeTo</th>\n",
       "      <th>borrowRateModeFrom</th>\n",
       "      <th>stableBorrowRate</th>\n",
       "      <th>variableBorrowRate</th>\n",
       "      <th>target</th>\n",
       "      <th>totalFee</th>\n",
       "      <th>version</th>\n",
       "      <th>deployment</th>\n",
       "    </tr>\n",
       "    <tr>\n",
       "      <th>DateTime</th>\n",
       "      <th></th>\n",
       "      <th></th>\n",
       "      <th></th>\n",
       "      <th></th>\n",
       "      <th></th>\n",
       "      <th></th>\n",
       "      <th></th>\n",
       "      <th></th>\n",
       "      <th></th>\n",
       "      <th></th>\n",
       "      <th></th>\n",
       "      <th></th>\n",
       "      <th></th>\n",
       "      <th></th>\n",
       "      <th></th>\n",
       "      <th></th>\n",
       "      <th></th>\n",
       "      <th></th>\n",
       "      <th></th>\n",
       "      <th></th>\n",
       "      <th></th>\n",
       "    </tr>\n",
       "  </thead>\n",
       "  <tbody>\n",
       "    <tr>\n",
       "      <th>2020-12-01 11:46:58</th>\n",
       "      <td>0xc70f4c3f447f6a88e9fbb87ac1394b589e469ee57dda...</td>\n",
       "      <td>borrow</td>\n",
       "      <td>1.606841e+09</td>\n",
       "      <td>0xbd723fc4f1d737dcfc48a07fe7336766d34cad5f</td>\n",
       "      <td>Rocky Kuebler</td>\n",
       "      <td>0xbd723fc4f1d737dcfc48a07fe7336766d34cad5f</td>\n",
       "      <td>Rocky Kuebler</td>\n",
       "      <td>0xb53c1a33016b2dc2ff3653530bff1848a515c8c5</td>\n",
       "      <td>DAI</td>\n",
       "      <td>1.00</td>\n",
       "      <td>...</td>\n",
       "      <td>NaN</td>\n",
       "      <td>NaN</td>\n",
       "      <td>NaN</td>\n",
       "      <td>NaN</td>\n",
       "      <td>NaN</td>\n",
       "      <td>NaN</td>\n",
       "      <td>NaN</td>\n",
       "      <td>NaN</td>\n",
       "      <td>V2</td>\n",
       "      <td>Mainnet</td>\n",
       "    </tr>\n",
       "    <tr>\n",
       "      <th>2020-12-02 04:34:18</th>\n",
       "      <td>0x1ee3db904548c16d2ed3572f3d9894652e031facc8fa...</td>\n",
       "      <td>borrow</td>\n",
       "      <td>1.606902e+09</td>\n",
       "      <td>0x21d05071ca08593e13cd3afd0b4869537e015c92</td>\n",
       "      <td>Odaly Chihuahua-Tovar</td>\n",
       "      <td>0x21d05071ca08593e13cd3afd0b4869537e015c92</td>\n",
       "      <td>Odaly Chihuahua-Tovar</td>\n",
       "      <td>0xb53c1a33016b2dc2ff3653530bff1848a515c8c5</td>\n",
       "      <td>DAI</td>\n",
       "      <td>1.00</td>\n",
       "      <td>...</td>\n",
       "      <td>NaN</td>\n",
       "      <td>NaN</td>\n",
       "      <td>NaN</td>\n",
       "      <td>NaN</td>\n",
       "      <td>NaN</td>\n",
       "      <td>NaN</td>\n",
       "      <td>NaN</td>\n",
       "      <td>NaN</td>\n",
       "      <td>V2</td>\n",
       "      <td>Mainnet</td>\n",
       "    </tr>\n",
       "    <tr>\n",
       "      <th>2020-12-02 05:24:50</th>\n",
       "      <td>0x1e8f85330edc5005ead7a7ae8c418fbb64df726d4ffc...</td>\n",
       "      <td>borrow</td>\n",
       "      <td>1.606905e+09</td>\n",
       "      <td>0x39d637737cc76c5849a52c7d3b872a1eb22aa71c</td>\n",
       "      <td>Stephon Wal</td>\n",
       "      <td>0x39d637737cc76c5849a52c7d3b872a1eb22aa71c</td>\n",
       "      <td>Stephon Wal</td>\n",
       "      <td>0xb53c1a33016b2dc2ff3653530bff1848a515c8c5</td>\n",
       "      <td>LINK</td>\n",
       "      <td>1.00</td>\n",
       "      <td>...</td>\n",
       "      <td>NaN</td>\n",
       "      <td>NaN</td>\n",
       "      <td>NaN</td>\n",
       "      <td>NaN</td>\n",
       "      <td>NaN</td>\n",
       "      <td>NaN</td>\n",
       "      <td>NaN</td>\n",
       "      <td>NaN</td>\n",
       "      <td>V2</td>\n",
       "      <td>Mainnet</td>\n",
       "    </tr>\n",
       "    <tr>\n",
       "      <th>2020-12-02 07:47:21</th>\n",
       "      <td>0x43136c7aba13c072bb19ed88f8eadf859f0bfb994b42...</td>\n",
       "      <td>borrow</td>\n",
       "      <td>1.606913e+09</td>\n",
       "      <td>0x39d637737cc76c5849a52c7d3b872a1eb22aa71c</td>\n",
       "      <td>Stephon Wal</td>\n",
       "      <td>0x39d637737cc76c5849a52c7d3b872a1eb22aa71c</td>\n",
       "      <td>Stephon Wal</td>\n",
       "      <td>0xb53c1a33016b2dc2ff3653530bff1848a515c8c5</td>\n",
       "      <td>AAVE</td>\n",
       "      <td>0.05</td>\n",
       "      <td>...</td>\n",
       "      <td>NaN</td>\n",
       "      <td>NaN</td>\n",
       "      <td>NaN</td>\n",
       "      <td>NaN</td>\n",
       "      <td>NaN</td>\n",
       "      <td>NaN</td>\n",
       "      <td>NaN</td>\n",
       "      <td>NaN</td>\n",
       "      <td>V2</td>\n",
       "      <td>Mainnet</td>\n",
       "    </tr>\n",
       "    <tr>\n",
       "      <th>2020-12-02 08:10:19</th>\n",
       "      <td>0xd96af0cf05a1e99125fe51ee7e27a1c96cf40ea6e596...</td>\n",
       "      <td>borrow</td>\n",
       "      <td>1.606915e+09</td>\n",
       "      <td>0xdad4c11e8cc6a5c37808d3b31b3b284809f702d1</td>\n",
       "      <td>Jalen Mitchell</td>\n",
       "      <td>0xdad4c11e8cc6a5c37808d3b31b3b284809f702d1</td>\n",
       "      <td>Jalen Mitchell</td>\n",
       "      <td>0xb53c1a33016b2dc2ff3653530bff1848a515c8c5</td>\n",
       "      <td>DAI</td>\n",
       "      <td>1.00</td>\n",
       "      <td>...</td>\n",
       "      <td>NaN</td>\n",
       "      <td>NaN</td>\n",
       "      <td>NaN</td>\n",
       "      <td>NaN</td>\n",
       "      <td>NaN</td>\n",
       "      <td>NaN</td>\n",
       "      <td>NaN</td>\n",
       "      <td>NaN</td>\n",
       "      <td>V2</td>\n",
       "      <td>Mainnet</td>\n",
       "    </tr>\n",
       "  </tbody>\n",
       "</table>\n",
       "<p>5 rows × 35 columns</p>\n",
       "</div>"
      ],
      "text/plain": [
       "                                                                    id  \\\n",
       "DateTime                                                                 \n",
       "2020-12-01 11:46:58  0xc70f4c3f447f6a88e9fbb87ac1394b589e469ee57dda...   \n",
       "2020-12-02 04:34:18  0x1ee3db904548c16d2ed3572f3d9894652e031facc8fa...   \n",
       "2020-12-02 05:24:50  0x1e8f85330edc5005ead7a7ae8c418fbb64df726d4ffc...   \n",
       "2020-12-02 07:47:21  0x43136c7aba13c072bb19ed88f8eadf859f0bfb994b42...   \n",
       "2020-12-02 08:10:19  0xd96af0cf05a1e99125fe51ee7e27a1c96cf40ea6e596...   \n",
       "\n",
       "                       type     timestamp  \\\n",
       "DateTime                                    \n",
       "2020-12-01 11:46:58  borrow  1.606841e+09   \n",
       "2020-12-02 04:34:18  borrow  1.606902e+09   \n",
       "2020-12-02 05:24:50  borrow  1.606905e+09   \n",
       "2020-12-02 07:47:21  borrow  1.606913e+09   \n",
       "2020-12-02 08:10:19  borrow  1.606915e+09   \n",
       "\n",
       "                                                           user  \\\n",
       "DateTime                                                          \n",
       "2020-12-01 11:46:58  0xbd723fc4f1d737dcfc48a07fe7336766d34cad5f   \n",
       "2020-12-02 04:34:18  0x21d05071ca08593e13cd3afd0b4869537e015c92   \n",
       "2020-12-02 05:24:50  0x39d637737cc76c5849a52c7d3b872a1eb22aa71c   \n",
       "2020-12-02 07:47:21  0x39d637737cc76c5849a52c7d3b872a1eb22aa71c   \n",
       "2020-12-02 08:10:19  0xdad4c11e8cc6a5c37808d3b31b3b284809f702d1   \n",
       "\n",
       "                                 userAlias  \\\n",
       "DateTime                                     \n",
       "2020-12-01 11:46:58          Rocky Kuebler   \n",
       "2020-12-02 04:34:18  Odaly Chihuahua-Tovar   \n",
       "2020-12-02 05:24:50            Stephon Wal   \n",
       "2020-12-02 07:47:21            Stephon Wal   \n",
       "2020-12-02 08:10:19         Jalen Mitchell   \n",
       "\n",
       "                                                     onBehalfOf  \\\n",
       "DateTime                                                          \n",
       "2020-12-01 11:46:58  0xbd723fc4f1d737dcfc48a07fe7336766d34cad5f   \n",
       "2020-12-02 04:34:18  0x21d05071ca08593e13cd3afd0b4869537e015c92   \n",
       "2020-12-02 05:24:50  0x39d637737cc76c5849a52c7d3b872a1eb22aa71c   \n",
       "2020-12-02 07:47:21  0x39d637737cc76c5849a52c7d3b872a1eb22aa71c   \n",
       "2020-12-02 08:10:19  0xdad4c11e8cc6a5c37808d3b31b3b284809f702d1   \n",
       "\n",
       "                           onBehalfOfAlias  \\\n",
       "DateTime                                     \n",
       "2020-12-01 11:46:58          Rocky Kuebler   \n",
       "2020-12-02 04:34:18  Odaly Chihuahua-Tovar   \n",
       "2020-12-02 05:24:50            Stephon Wal   \n",
       "2020-12-02 07:47:21            Stephon Wal   \n",
       "2020-12-02 08:10:19         Jalen Mitchell   \n",
       "\n",
       "                                                           pool reserve  \\\n",
       "DateTime                                                                  \n",
       "2020-12-01 11:46:58  0xb53c1a33016b2dc2ff3653530bff1848a515c8c5     DAI   \n",
       "2020-12-02 04:34:18  0xb53c1a33016b2dc2ff3653530bff1848a515c8c5     DAI   \n",
       "2020-12-02 05:24:50  0xb53c1a33016b2dc2ff3653530bff1848a515c8c5    LINK   \n",
       "2020-12-02 07:47:21  0xb53c1a33016b2dc2ff3653530bff1848a515c8c5    AAVE   \n",
       "2020-12-02 08:10:19  0xb53c1a33016b2dc2ff3653530bff1848a515c8c5     DAI   \n",
       "\n",
       "                     amount  ...  liquidatorAlias  priceInUsd  \\\n",
       "DateTime                     ...                                \n",
       "2020-12-01 11:46:58    1.00  ...              NaN         NaN   \n",
       "2020-12-02 04:34:18    1.00  ...              NaN         NaN   \n",
       "2020-12-02 05:24:50    1.00  ...              NaN         NaN   \n",
       "2020-12-02 07:47:21    0.05  ...              NaN         NaN   \n",
       "2020-12-02 08:10:19    1.00  ...              NaN         NaN   \n",
       "\n",
       "                     borrowRateModeTo borrowRateModeFrom stableBorrowRate  \\\n",
       "DateTime                                                                    \n",
       "2020-12-01 11:46:58               NaN                NaN              NaN   \n",
       "2020-12-02 04:34:18               NaN                NaN              NaN   \n",
       "2020-12-02 05:24:50               NaN                NaN              NaN   \n",
       "2020-12-02 07:47:21               NaN                NaN              NaN   \n",
       "2020-12-02 08:10:19               NaN                NaN              NaN   \n",
       "\n",
       "                    variableBorrowRate target  totalFee version  deployment  \n",
       "DateTime                                                                     \n",
       "2020-12-01 11:46:58                NaN    NaN       NaN      V2     Mainnet  \n",
       "2020-12-02 04:34:18                NaN    NaN       NaN      V2     Mainnet  \n",
       "2020-12-02 05:24:50                NaN    NaN       NaN      V2     Mainnet  \n",
       "2020-12-02 07:47:21                NaN    NaN       NaN      V2     Mainnet  \n",
       "2020-12-02 08:10:19                NaN    NaN       NaN      V2     Mainnet  \n",
       "\n",
       "[5 rows x 35 columns]"
      ]
     },
     "execution_count": 36,
     "metadata": {},
     "output_type": "execute_result"
    }
   ],
   "source": [
    "df.head()"
   ]
  },
  {
   "cell_type": "code",
   "execution_count": 37,
   "metadata": {},
   "outputs": [
    {
     "ename": "KeyError",
     "evalue": "\"['DateTime'] not in index\"",
     "output_type": "error",
     "traceback": [
      "\u001b[0;31m---------------------------------------------------------------------------\u001b[0m",
      "\u001b[0;31mKeyError\u001b[0m                                  Traceback (most recent call last)",
      "\u001b[0;32m<ipython-input-37-36f69e7a6f23>\u001b[0m in \u001b[0;36m<module>\u001b[0;34m\u001b[0m\n\u001b[0;32m----> 1\u001b[0;31m \u001b[0mdaily_totals\u001b[0m \u001b[0;34m=\u001b[0m \u001b[0mdf\u001b[0m\u001b[0;34m[\u001b[0m\u001b[0;34m[\u001b[0m\u001b[0;34m'DateTime'\u001b[0m\u001b[0;34m,\u001b[0m \u001b[0;34m'amount'\u001b[0m\u001b[0;34m]\u001b[0m\u001b[0;34m]\u001b[0m\u001b[0;34m\u001b[0m\u001b[0;34m\u001b[0m\u001b[0m\n\u001b[0m",
      "\u001b[0;32m~/.local/lib/python3.6/site-packages/pandas/core/frame.py\u001b[0m in \u001b[0;36m__getitem__\u001b[0;34m(self, key)\u001b[0m\n\u001b[1;32m   2910\u001b[0m             \u001b[0;32mif\u001b[0m \u001b[0mis_iterator\u001b[0m\u001b[0;34m(\u001b[0m\u001b[0mkey\u001b[0m\u001b[0;34m)\u001b[0m\u001b[0;34m:\u001b[0m\u001b[0;34m\u001b[0m\u001b[0;34m\u001b[0m\u001b[0m\n\u001b[1;32m   2911\u001b[0m                 \u001b[0mkey\u001b[0m \u001b[0;34m=\u001b[0m \u001b[0mlist\u001b[0m\u001b[0;34m(\u001b[0m\u001b[0mkey\u001b[0m\u001b[0;34m)\u001b[0m\u001b[0;34m\u001b[0m\u001b[0;34m\u001b[0m\u001b[0m\n\u001b[0;32m-> 2912\u001b[0;31m             \u001b[0mindexer\u001b[0m \u001b[0;34m=\u001b[0m \u001b[0mself\u001b[0m\u001b[0;34m.\u001b[0m\u001b[0mloc\u001b[0m\u001b[0;34m.\u001b[0m\u001b[0m_get_listlike_indexer\u001b[0m\u001b[0;34m(\u001b[0m\u001b[0mkey\u001b[0m\u001b[0;34m,\u001b[0m \u001b[0maxis\u001b[0m\u001b[0;34m=\u001b[0m\u001b[0;36m1\u001b[0m\u001b[0;34m,\u001b[0m \u001b[0mraise_missing\u001b[0m\u001b[0;34m=\u001b[0m\u001b[0;32mTrue\u001b[0m\u001b[0;34m)\u001b[0m\u001b[0;34m[\u001b[0m\u001b[0;36m1\u001b[0m\u001b[0;34m]\u001b[0m\u001b[0;34m\u001b[0m\u001b[0;34m\u001b[0m\u001b[0m\n\u001b[0m\u001b[1;32m   2913\u001b[0m \u001b[0;34m\u001b[0m\u001b[0m\n\u001b[1;32m   2914\u001b[0m         \u001b[0;31m# take() does not accept boolean indexers\u001b[0m\u001b[0;34m\u001b[0m\u001b[0;34m\u001b[0m\u001b[0;34m\u001b[0m\u001b[0m\n",
      "\u001b[0;32m~/.local/lib/python3.6/site-packages/pandas/core/indexing.py\u001b[0m in \u001b[0;36m_get_listlike_indexer\u001b[0;34m(self, key, axis, raise_missing)\u001b[0m\n\u001b[1;32m   1252\u001b[0m             \u001b[0mkeyarr\u001b[0m\u001b[0;34m,\u001b[0m \u001b[0mindexer\u001b[0m\u001b[0;34m,\u001b[0m \u001b[0mnew_indexer\u001b[0m \u001b[0;34m=\u001b[0m \u001b[0max\u001b[0m\u001b[0;34m.\u001b[0m\u001b[0m_reindex_non_unique\u001b[0m\u001b[0;34m(\u001b[0m\u001b[0mkeyarr\u001b[0m\u001b[0;34m)\u001b[0m\u001b[0;34m\u001b[0m\u001b[0;34m\u001b[0m\u001b[0m\n\u001b[1;32m   1253\u001b[0m \u001b[0;34m\u001b[0m\u001b[0m\n\u001b[0;32m-> 1254\u001b[0;31m         \u001b[0mself\u001b[0m\u001b[0;34m.\u001b[0m\u001b[0m_validate_read_indexer\u001b[0m\u001b[0;34m(\u001b[0m\u001b[0mkeyarr\u001b[0m\u001b[0;34m,\u001b[0m \u001b[0mindexer\u001b[0m\u001b[0;34m,\u001b[0m \u001b[0maxis\u001b[0m\u001b[0;34m,\u001b[0m \u001b[0mraise_missing\u001b[0m\u001b[0;34m=\u001b[0m\u001b[0mraise_missing\u001b[0m\u001b[0;34m)\u001b[0m\u001b[0;34m\u001b[0m\u001b[0;34m\u001b[0m\u001b[0m\n\u001b[0m\u001b[1;32m   1255\u001b[0m         \u001b[0;32mreturn\u001b[0m \u001b[0mkeyarr\u001b[0m\u001b[0;34m,\u001b[0m \u001b[0mindexer\u001b[0m\u001b[0;34m\u001b[0m\u001b[0;34m\u001b[0m\u001b[0m\n\u001b[1;32m   1256\u001b[0m \u001b[0;34m\u001b[0m\u001b[0m\n",
      "\u001b[0;32m~/.local/lib/python3.6/site-packages/pandas/core/indexing.py\u001b[0m in \u001b[0;36m_validate_read_indexer\u001b[0;34m(self, key, indexer, axis, raise_missing)\u001b[0m\n\u001b[1;32m   1302\u001b[0m             \u001b[0;32mif\u001b[0m \u001b[0mraise_missing\u001b[0m\u001b[0;34m:\u001b[0m\u001b[0;34m\u001b[0m\u001b[0;34m\u001b[0m\u001b[0m\n\u001b[1;32m   1303\u001b[0m                 \u001b[0mnot_found\u001b[0m \u001b[0;34m=\u001b[0m \u001b[0mlist\u001b[0m\u001b[0;34m(\u001b[0m\u001b[0mset\u001b[0m\u001b[0;34m(\u001b[0m\u001b[0mkey\u001b[0m\u001b[0;34m)\u001b[0m \u001b[0;34m-\u001b[0m \u001b[0mset\u001b[0m\u001b[0;34m(\u001b[0m\u001b[0max\u001b[0m\u001b[0;34m)\u001b[0m\u001b[0;34m)\u001b[0m\u001b[0;34m\u001b[0m\u001b[0;34m\u001b[0m\u001b[0m\n\u001b[0;32m-> 1304\u001b[0;31m                 \u001b[0;32mraise\u001b[0m \u001b[0mKeyError\u001b[0m\u001b[0;34m(\u001b[0m\u001b[0;34mf\"{not_found} not in index\"\u001b[0m\u001b[0;34m)\u001b[0m\u001b[0;34m\u001b[0m\u001b[0;34m\u001b[0m\u001b[0m\n\u001b[0m\u001b[1;32m   1305\u001b[0m \u001b[0;34m\u001b[0m\u001b[0m\n\u001b[1;32m   1306\u001b[0m             \u001b[0;31m# we skip the warning on Categorical\u001b[0m\u001b[0;34m\u001b[0m\u001b[0;34m\u001b[0m\u001b[0;34m\u001b[0m\u001b[0m\n",
      "\u001b[0;31mKeyError\u001b[0m: \"['DateTime'] not in index\""
     ]
    }
   ],
   "source": [
    "daily_totals = df[['DateTime', 'amount']]"
   ]
  },
  {
   "cell_type": "code",
   "execution_count": 31,
   "metadata": {},
   "outputs": [
    {
     "ename": "AttributeError",
     "evalue": "'DatetimeIndexResampler' object has no attribute 'head'",
     "output_type": "error",
     "traceback": [
      "\u001b[0;31m---------------------------------------------------------------------------\u001b[0m",
      "\u001b[0;31mAttributeError\u001b[0m                            Traceback (most recent call last)",
      "\u001b[0;32m<ipython-input-31-9b2d9475a96b>\u001b[0m in \u001b[0;36m<module>\u001b[0;34m\u001b[0m\n\u001b[0;32m----> 1\u001b[0;31m \u001b[0mdaily_totals\u001b[0m\u001b[0;34m.\u001b[0m\u001b[0mhead\u001b[0m\u001b[0;34m(\u001b[0m\u001b[0;34m)\u001b[0m\u001b[0;34m\u001b[0m\u001b[0;34m\u001b[0m\u001b[0m\n\u001b[0m",
      "\u001b[0;32m~/.local/lib/python3.6/site-packages/pandas/core/resample.py\u001b[0m in \u001b[0;36m__getattr__\u001b[0;34m(self, attr)\u001b[0m\n\u001b[1;32m    113\u001b[0m             \u001b[0;32mreturn\u001b[0m \u001b[0mself\u001b[0m\u001b[0;34m[\u001b[0m\u001b[0mattr\u001b[0m\u001b[0;34m]\u001b[0m\u001b[0;34m\u001b[0m\u001b[0;34m\u001b[0m\u001b[0m\n\u001b[1;32m    114\u001b[0m \u001b[0;34m\u001b[0m\u001b[0m\n\u001b[0;32m--> 115\u001b[0;31m         \u001b[0;32mreturn\u001b[0m \u001b[0mobject\u001b[0m\u001b[0;34m.\u001b[0m\u001b[0m__getattribute__\u001b[0m\u001b[0;34m(\u001b[0m\u001b[0mself\u001b[0m\u001b[0;34m,\u001b[0m \u001b[0mattr\u001b[0m\u001b[0;34m)\u001b[0m\u001b[0;34m\u001b[0m\u001b[0;34m\u001b[0m\u001b[0m\n\u001b[0m\u001b[1;32m    116\u001b[0m \u001b[0;34m\u001b[0m\u001b[0m\n\u001b[1;32m    117\u001b[0m     \u001b[0;32mdef\u001b[0m \u001b[0m__iter__\u001b[0m\u001b[0;34m(\u001b[0m\u001b[0mself\u001b[0m\u001b[0;34m)\u001b[0m\u001b[0;34m:\u001b[0m\u001b[0;34m\u001b[0m\u001b[0;34m\u001b[0m\u001b[0m\n",
      "\u001b[0;31mAttributeError\u001b[0m: 'DatetimeIndexResampler' object has no attribute 'head'"
     ]
    }
   ],
   "source": [
    "daily_totals.head()"
   ]
  },
  {
   "cell_type": "code",
   "execution_count": null,
   "metadata": {},
   "outputs": [],
   "source": []
  }
 ],
 "metadata": {
  "kernelspec": {
   "display_name": "python36",
   "language": "python",
   "name": "python36"
  },
  "language_info": {
   "codemirror_mode": {
    "name": "ipython",
    "version": 3
   },
   "file_extension": ".py",
   "mimetype": "text/x-python",
   "name": "python",
   "nbconvert_exporter": "python",
   "pygments_lexer": "ipython3",
   "version": "3.6.13"
  }
 },
 "nbformat": 4,
 "nbformat_minor": 4
}
